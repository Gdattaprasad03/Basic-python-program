{
 "cells": [
  {
   "cell_type": "markdown",
   "id": "0b04acaf",
   "metadata": {},
   "source": [
    "# 1.Write a program that allows the user to play a game of Rock Paper Scissors against the computer."
   ]
  },
  {
   "cell_type": "code",
   "execution_count": 4,
   "id": "8e0ffc86",
   "metadata": {},
   "outputs": [
    {
     "name": "stdout",
     "output_type": "stream",
     "text": [
      "Choose Rock, Paper, or Scissors: paper\n",
      "You chose:  paper\n",
      "Computer chose:  Rock\n",
      "Computer wins!\n"
     ]
    }
   ],
   "source": [
    "import random\n",
    "\n",
    "options = [\"Rock\", \"Paper\", \"Scissors\"]\n",
    "\n",
    "user_choice = input(\"Choose Rock, Paper, or Scissors: \")\n",
    "\n",
    "computer_choice = random.choice(options)\n",
    "\n",
    "print(\"You chose: \", user_choice)\n",
    "\n",
    "print(\"Computer chose: \", computer_choice)\n",
    "\n",
    "if user_choice == computer_choice:\n",
    "\n",
    "    print(\"It's a tie!\")\n",
    "\n",
    "elif user_choice == \"Rock\" and computer_choice == \"Scissors\":\n",
    "\n",
    "    print(\"You win!\")\n",
    "\n",
    "elif user_choice == \"Paper\" and computer_choice == \"Rock\":\n",
    "\n",
    "    print(\"You win!\")\n",
    "\n",
    "elif user_choice == \"Scissors\" and computer_choice == \"Paper\":\n",
    "\n",
    "    print(\"You win!\")\n",
    "\n",
    "else:\n",
    "\n",
    "    print(\"Computer wins!\")\n"
   ]
  },
  {
   "cell_type": "markdown",
   "id": "b8354b36",
   "metadata": {},
   "source": [
    "# Write a program that takes a string as input, and counts the frequency of each word in the string."
   ]
  },
  {
   "cell_type": "code",
   "execution_count": 2,
   "id": "a358a39b",
   "metadata": {},
   "outputs": [
    {
     "name": "stdout",
     "output_type": "stream",
     "text": [
      "Enter the string: dattaprasad\n",
      "('a', 4)\n"
     ]
    }
   ],
   "source": [
    "#Given a string and you want to count how many times each character appears\n",
    "\n",
    "str1 = input (\"Enter the string: \")\n",
    "d = dict()\n",
    "for c in str1:\n",
    "    if c in d:\n",
    "        d[c] = d[c] + 1\n",
    "    else:\n",
    "        d[c] = 1\n",
    "print(max(d.items(), key=lambda x: x[1]))"
   ]
  },
  {
   "cell_type": "markdown",
   "id": "ab0f56c1",
   "metadata": {},
   "source": [
    "# Write a program that takes an integer as input, and creates a mathematical table of that number."
   ]
  },
  {
   "cell_type": "code",
   "execution_count": 1,
   "id": "d411f211",
   "metadata": {},
   "outputs": [
    {
     "name": "stdout",
     "output_type": "stream",
     "text": [
      "Display multiplication table of? 17\n",
      "17 x 1 = 17\n",
      "17 x 2 = 34\n",
      "17 x 3 = 51\n",
      "17 x 4 = 68\n",
      "17 x 5 = 85\n",
      "17 x 6 = 102\n",
      "17 x 7 = 119\n",
      "17 x 8 = 136\n",
      "17 x 9 = 153\n",
      "17 x 10 = 170\n"
     ]
    }
   ],
   "source": [
    "# To take input from the user\n",
    "num = int(input(\"Display multiplication table of? \"))\n",
    "\n",
    "# Iterate 10 times from i = 1 to 10\n",
    "for i in range(1, 11):\n",
    "   print(num, 'x', i, '=', num*i)"
   ]
  },
  {
   "cell_type": "markdown",
   "id": "27786f46",
   "metadata": {},
   "source": [
    "# Write a Python program that allows the user to create a dictionary of personal details for a group of people."
   ]
  },
  {
   "cell_type": "code",
   "execution_count": 13,
   "id": "c7e71105",
   "metadata": {},
   "outputs": [
    {
     "name": "stdout",
     "output_type": "stream",
     "text": [
      "Enter number of levels: 2\n",
      "Enter person name: a\n",
      "Enter that person's age: 2\n",
      "Enter perons occupation3\n",
      "Do you want to continue? Answer with yes/no: yes\n",
      "Enter person name: s\n",
      "Enter that person's age: 2\n",
      "Enter perons occupation3\n",
      "Do you want to continue? Answer with yes/no: yes\n",
      "{'a': {'age': 2, 'name': 'a', 'occupation': '3'},\n",
      " 's': {'age': 2, 'name': 's', 'occupation': '3'}}\n"
     ]
    }
   ],
   "source": [
    "import pprint\n",
    "data = {}\n",
    "n=int(input(\"Enter number of levels: \"))\n",
    "status=\"\"\n",
    "for i in range(n):\n",
    "  name = input(\"Enter person name: \".format(i+1))\n",
    "  age = int(input(\"Enter that person's age: \"))\n",
    "  occupation=input(\"Enter perons occupation\")\n",
    "  data[name] = {\"name\": name, \"age\": age, \"occupation\": occupation}\n",
    "  status = input(\"Do you want to continue? Answer with yes/no: \")\n",
    "  if status == \"no\":\n",
    "    break\n",
    "pprint.pprint(data)"
   ]
  },
  {
   "cell_type": "markdown",
   "id": "82e29d39",
   "metadata": {},
   "source": [
    "# Write a program that takes a string as input, and determines if all characters of the string appear the same number of times."
   ]
  },
  {
   "cell_type": "code",
   "execution_count": 1,
   "id": "195c8daf",
   "metadata": {},
   "outputs": [
    {
     "name": "stdout",
     "output_type": "stream",
     "text": [
      "Enter a string:- abcdd\n",
      "False\n"
     ]
    }
   ],
   "source": [
    "def isUniqueChars(st):\n",
    " \n",
    "    \n",
    "    if len(st) > 256:\n",
    "        return False\n",
    " \n",
    "    \n",
    "    char_set = [False] * 128\n",
    " \n",
    "  \n",
    "    for i in range(0, len(st)):\n",
    " \n",
    "      \n",
    "        val = ord(st[i])\n",
    "        if char_set[val]:\n",
    "            return False\n",
    " \n",
    "        char_set[val] = True\n",
    " \n",
    "    return True\n",
    " \n",
    "\n",
    "st = input(\"Enter a string:- \")\n",
    "print(isUniqueChars(st))"
   ]
  },
  {
   "cell_type": "code",
   "execution_count": null,
   "id": "a2679d41",
   "metadata": {},
   "outputs": [],
   "source": []
  },
  {
   "cell_type": "code",
   "execution_count": null,
   "id": "14907b8e",
   "metadata": {},
   "outputs": [],
   "source": []
  },
  {
   "cell_type": "code",
   "execution_count": null,
   "id": "7d680af2",
   "metadata": {},
   "outputs": [],
   "source": []
  }
 ],
 "metadata": {
  "kernelspec": {
   "display_name": "Python 3 (ipykernel)",
   "language": "python",
   "name": "python3"
  },
  "language_info": {
   "codemirror_mode": {
    "name": "ipython",
    "version": 3
   },
   "file_extension": ".py",
   "mimetype": "text/x-python",
   "name": "python",
   "nbconvert_exporter": "python",
   "pygments_lexer": "ipython3",
   "version": "3.9.12"
  }
 },
 "nbformat": 4,
 "nbformat_minor": 5
}
